{
 "cells": [
  {
   "cell_type": "markdown",
   "metadata": {},
   "source": [
    "### Sales Drive Analysis"
   ]
  },
  {
   "cell_type": "markdown",
   "metadata": {},
   "source": [
    "<h> Problem Statement: </h>\n",
    "    <p> We need to find out the the factors that influence the Sales of the store. Based on the information we have in this dataset we will analyse and findout 3 to 4 factors that are driving the sales and hence we will work on improving those factors and targetting increased no. of sales. </p>"
   ]
  },
  {
   "cell_type": "markdown",
   "metadata": {},
   "source": [
    "<h> Factors that might affecting the sales </h>\n",
    "    <li> Store Location </li>\n",
    "    <li> Products Availability </li>\n",
    "    <li> Promotion/Offers/Discounts </li>\n",
    "    <li> Products placement at the store </li>\n",
    "    <li> Parking Area Avalibility </li>\n",
    "    <li> No. of Counters at the Store </li>\n",
    "    <li> No. of Stores in the City </li>\n",
    "    "
   ]
  },
  {
   "cell_type": "markdown",
   "metadata": {},
   "source": [
    "<img src=\"Store_Image.jfif\" height=\"350\" width=\"350\">"
   ]
  },
  {
   "cell_type": "markdown",
   "metadata": {},
   "source": [
    "### Importing the necessary Libraries"
   ]
  },
  {
   "cell_type": "code",
   "execution_count": 2,
   "metadata": {},
   "outputs": [],
   "source": [
    "import matplotlib.pyplot as plt\n",
    "import seaborn as sb\n",
    "import pandas as pd\n",
    "import numpy as np"
   ]
  },
  {
   "cell_type": "markdown",
   "metadata": {},
   "source": [
    "### Exploring the Data"
   ]
  },
  {
   "cell_type": "code",
   "execution_count": 3,
   "metadata": {},
   "outputs": [],
   "source": [
    "dataset = pd.read_excel(\"C:\\\\ML_Practice_Data\\\\Sample Dataset.xlsx\",encoding =\"latin1\" )"
   ]
  },
  {
   "cell_type": "code",
   "execution_count": 4,
   "metadata": {},
   "outputs": [
    {
     "data": {
      "text/plain": [
       "(524, 23)"
      ]
     },
     "execution_count": 4,
     "metadata": {},
     "output_type": "execute_result"
    }
   ],
   "source": [
    "dataset.shape"
   ]
  },
  {
   "cell_type": "code",
   "execution_count": 5,
   "metadata": {},
   "outputs": [
    {
     "data": {
      "text/html": [
       "<div>\n",
       "<style scoped>\n",
       "    .dataframe tbody tr th:only-of-type {\n",
       "        vertical-align: middle;\n",
       "    }\n",
       "\n",
       "    .dataframe tbody tr th {\n",
       "        vertical-align: top;\n",
       "    }\n",
       "\n",
       "    .dataframe thead th {\n",
       "        text-align: right;\n",
       "    }\n",
       "</style>\n",
       "<table border=\"1\" class=\"dataframe\">\n",
       "  <thead>\n",
       "    <tr style=\"text-align: right;\">\n",
       "      <th></th>\n",
       "      <th>black_hispanic</th>\n",
       "      <th>Hispanic_HHs_Index</th>\n",
       "      <th>HHs_Index_Income_75K_9999K</th>\n",
       "      <th>HHs_55_64</th>\n",
       "      <th>Total_Selling_Area</th>\n",
       "      <th>Store_Format</th>\n",
       "      <th>P26_Demand_Index</th>\n",
       "      <th>P164_Demand_Index</th>\n",
       "      <th>sales</th>\n",
       "      <th>format</th>\n",
       "      <th>...</th>\n",
       "      <th>sf2</th>\n",
       "      <th>sf3</th>\n",
       "      <th>channel_1</th>\n",
       "      <th>channel_2</th>\n",
       "      <th>channel_3</th>\n",
       "      <th>channel_4</th>\n",
       "      <th>channel_5</th>\n",
       "      <th>geography</th>\n",
       "      <th>Date</th>\n",
       "      <th>Unnamed: 22</th>\n",
       "    </tr>\n",
       "  </thead>\n",
       "  <tbody>\n",
       "    <tr>\n",
       "      <th>0</th>\n",
       "      <td>91</td>\n",
       "      <td>28</td>\n",
       "      <td>99</td>\n",
       "      <td>804</td>\n",
       "      <td>47000</td>\n",
       "      <td>Food/Drug Combo</td>\n",
       "      <td>108.793008</td>\n",
       "      <td>97.554004</td>\n",
       "      <td>85.443171</td>\n",
       "      <td>1</td>\n",
       "      <td>...</td>\n",
       "      <td>0</td>\n",
       "      <td>0</td>\n",
       "      <td>0</td>\n",
       "      <td>0</td>\n",
       "      <td>0</td>\n",
       "      <td>1</td>\n",
       "      <td>0</td>\n",
       "      <td>north</td>\n",
       "      <td>2008-01-01 00:00:00</td>\n",
       "      <td>1.0</td>\n",
       "    </tr>\n",
       "    <tr>\n",
       "      <th>1</th>\n",
       "      <td>24</td>\n",
       "      <td>6</td>\n",
       "      <td>102</td>\n",
       "      <td>1116</td>\n",
       "      <td>53000</td>\n",
       "      <td>Food/Drug Combo</td>\n",
       "      <td>87.878645</td>\n",
       "      <td>118.260131</td>\n",
       "      <td>97.562195</td>\n",
       "      <td>1</td>\n",
       "      <td>...</td>\n",
       "      <td>0</td>\n",
       "      <td>0</td>\n",
       "      <td>0</td>\n",
       "      <td>0</td>\n",
       "      <td>0</td>\n",
       "      <td>1</td>\n",
       "      <td>0</td>\n",
       "      <td>north</td>\n",
       "      <td>2008-02-01 00:00:00</td>\n",
       "      <td>2.0</td>\n",
       "    </tr>\n",
       "    <tr>\n",
       "      <th>2</th>\n",
       "      <td>398</td>\n",
       "      <td>181</td>\n",
       "      <td>96</td>\n",
       "      <td>691</td>\n",
       "      <td>45000</td>\n",
       "      <td>Food/Drug Combo</td>\n",
       "      <td>98.072708</td>\n",
       "      <td>117.473440</td>\n",
       "      <td>70.620488</td>\n",
       "      <td>1</td>\n",
       "      <td>...</td>\n",
       "      <td>0</td>\n",
       "      <td>0</td>\n",
       "      <td>0</td>\n",
       "      <td>0</td>\n",
       "      <td>0</td>\n",
       "      <td>1</td>\n",
       "      <td>0</td>\n",
       "      <td>north</td>\n",
       "      <td>2008-03-01 00:00:00</td>\n",
       "      <td>3.0</td>\n",
       "    </tr>\n",
       "    <tr>\n",
       "      <th>3</th>\n",
       "      <td>209</td>\n",
       "      <td>30</td>\n",
       "      <td>111</td>\n",
       "      <td>892</td>\n",
       "      <td>55000</td>\n",
       "      <td>Food/Drug Combo</td>\n",
       "      <td>101.325653</td>\n",
       "      <td>95.978476</td>\n",
       "      <td>106.092857</td>\n",
       "      <td>1</td>\n",
       "      <td>...</td>\n",
       "      <td>0</td>\n",
       "      <td>0</td>\n",
       "      <td>0</td>\n",
       "      <td>1</td>\n",
       "      <td>0</td>\n",
       "      <td>0</td>\n",
       "      <td>0</td>\n",
       "      <td>north</td>\n",
       "      <td>2008-04-01 00:00:00</td>\n",
       "      <td>4.0</td>\n",
       "    </tr>\n",
       "    <tr>\n",
       "      <th>4</th>\n",
       "      <td>448</td>\n",
       "      <td>123</td>\n",
       "      <td>87</td>\n",
       "      <td>717</td>\n",
       "      <td>50000</td>\n",
       "      <td>Food/Drug Combo</td>\n",
       "      <td>94.171104</td>\n",
       "      <td>97.021200</td>\n",
       "      <td>80.119091</td>\n",
       "      <td>1</td>\n",
       "      <td>...</td>\n",
       "      <td>0</td>\n",
       "      <td>0</td>\n",
       "      <td>0</td>\n",
       "      <td>1</td>\n",
       "      <td>0</td>\n",
       "      <td>0</td>\n",
       "      <td>0</td>\n",
       "      <td>north</td>\n",
       "      <td>2008-05-01 00:00:00</td>\n",
       "      <td>5.0</td>\n",
       "    </tr>\n",
       "  </tbody>\n",
       "</table>\n",
       "<p>5 rows × 23 columns</p>\n",
       "</div>"
      ],
      "text/plain": [
       "   black_hispanic  Hispanic_HHs_Index  HHs_Index_Income_75K_9999K  HHs_55_64  \\\n",
       "0              91                  28                          99        804   \n",
       "1              24                   6                         102       1116   \n",
       "2             398                 181                          96        691   \n",
       "3             209                  30                         111        892   \n",
       "4             448                 123                          87        717   \n",
       "\n",
       "   Total_Selling_Area     Store_Format  P26_Demand_Index  P164_Demand_Index  \\\n",
       "0               47000  Food/Drug Combo        108.793008          97.554004   \n",
       "1               53000  Food/Drug Combo         87.878645         118.260131   \n",
       "2               45000  Food/Drug Combo         98.072708         117.473440   \n",
       "3               55000  Food/Drug Combo        101.325653          95.978476   \n",
       "4               50000  Food/Drug Combo         94.171104          97.021200   \n",
       "\n",
       "        sales  format  ...  sf2  sf3  channel_1  channel_2  channel_3  \\\n",
       "0   85.443171       1  ...    0    0          0          0          0   \n",
       "1   97.562195       1  ...    0    0          0          0          0   \n",
       "2   70.620488       1  ...    0    0          0          0          0   \n",
       "3  106.092857       1  ...    0    0          0          1          0   \n",
       "4   80.119091       1  ...    0    0          0          1          0   \n",
       "\n",
       "   channel_4  channel_5  geography                 Date  Unnamed: 22  \n",
       "0          1          0      north  2008-01-01 00:00:00          1.0  \n",
       "1          1          0      north  2008-02-01 00:00:00          2.0  \n",
       "2          1          0      north  2008-03-01 00:00:00          3.0  \n",
       "3          0          0      north  2008-04-01 00:00:00          4.0  \n",
       "4          0          0      north  2008-05-01 00:00:00          5.0  \n",
       "\n",
       "[5 rows x 23 columns]"
      ]
     },
     "execution_count": 5,
     "metadata": {},
     "output_type": "execute_result"
    }
   ],
   "source": [
    "dataset.head()"
   ]
  },
  {
   "cell_type": "code",
   "execution_count": 6,
   "metadata": {
    "scrolled": true
   },
   "outputs": [
    {
     "name": "stdout",
     "output_type": "stream",
     "text": [
      "<class 'pandas.core.frame.DataFrame'>\n",
      "RangeIndex: 524 entries, 0 to 523\n",
      "Data columns (total 23 columns):\n",
      "black_hispanic                524 non-null int64\n",
      "Hispanic_HHs_Index            524 non-null int64\n",
      "HHs_Index_Income_75K_9999K    524 non-null int64\n",
      "HHs_55_64                     524 non-null int64\n",
      "Total_Selling_Area            524 non-null int64\n",
      "Store_Format                  524 non-null object\n",
      "P26_Demand_Index              524 non-null float64\n",
      "P164_Demand_Index             524 non-null float64\n",
      "sales                         524 non-null float64\n",
      "format                        524 non-null int64\n",
      "cluster_flag                  524 non-null int64\n",
      "Chiller_flag                  523 non-null float64\n",
      "sf1                           524 non-null int64\n",
      "sf2                           524 non-null int64\n",
      "sf3                           524 non-null int64\n",
      "channel_1                     524 non-null int64\n",
      "channel_2                     524 non-null int64\n",
      "channel_3                     524 non-null int64\n",
      "channel_4                     524 non-null int64\n",
      "channel_5                     524 non-null int64\n",
      "geography                     524 non-null object\n",
      "Date                          524 non-null object\n",
      "Unnamed: 22                   498 non-null float64\n",
      "dtypes: float64(5), int64(15), object(3)\n",
      "memory usage: 94.2+ KB\n"
     ]
    }
   ],
   "source": [
    "dataset.info()"
   ]
  },
  {
   "cell_type": "markdown",
   "metadata": {},
   "source": [
    "### Data PreProcessing "
   ]
  },
  {
   "cell_type": "code",
   "execution_count": 7,
   "metadata": {},
   "outputs": [
    {
     "data": {
      "text/plain": [
       "black_hispanic                 0\n",
       "Hispanic_HHs_Index             0\n",
       "HHs_Index_Income_75K_9999K     0\n",
       "HHs_55_64                      0\n",
       "Total_Selling_Area             0\n",
       "Store_Format                   0\n",
       "P26_Demand_Index               0\n",
       "P164_Demand_Index              0\n",
       "sales                          0\n",
       "format                         0\n",
       "cluster_flag                   0\n",
       "Chiller_flag                   1\n",
       "sf1                            0\n",
       "sf2                            0\n",
       "sf3                            0\n",
       "channel_1                      0\n",
       "channel_2                      0\n",
       "channel_3                      0\n",
       "channel_4                      0\n",
       "channel_5                      0\n",
       "geography                      0\n",
       "Date                           0\n",
       "Unnamed: 22                   26\n",
       "dtype: int64"
      ]
     },
     "execution_count": 7,
     "metadata": {},
     "output_type": "execute_result"
    }
   ],
   "source": [
    "dataset.isnull().sum()"
   ]
  },
  {
   "cell_type": "markdown",
   "metadata": {},
   "source": [
    "##### Null Value Tratement : After null values we have identified that only chiller flag have 1 percent of null values(Negligble effect if we treat wwith mean or median)"
   ]
  },
  {
   "cell_type": "markdown",
   "metadata": {},
   "source": [
    "#### A visual representation of null value treatement"
   ]
  },
  {
   "cell_type": "code",
   "execution_count": 27,
   "metadata": {},
   "outputs": [
    {
     "data": {
      "text/plain": [
       "<matplotlib.axes._subplots.AxesSubplot at 0x19ca252ac88>"
      ]
     },
     "execution_count": 27,
     "metadata": {},
     "output_type": "execute_result"
    },
    {
     "data": {
      "image/png": "[encoded data removed]",
      "text/plain": [
       "<Figure size 720x360 with 2 Axes>"
      ]
     },
     "metadata": {
      "needs_background": "light"
     },
     "output_type": "display_data"
    }
   ],
   "source": [
    "plt.figure(figsize=(10,5))\n",
    "sb.heatmap(dataset.isnull(),cmap = 'viridis',yticklabels=False)"
   ]
  },
  {
   "cell_type": "markdown",
   "metadata": {},
   "source": [
    "### 1. Null Vlaue Treatment"
   ]
  },
  {
   "cell_type": "code",
   "execution_count": null,
   "metadata": {},
   "outputs": [],
   "source": [
    "# null_value_table=(dataset.isna().sum()/dataset.shape[0])*100  \n",
    "# null_value_table\n",
    "\n",
    "# retained_columns=null_value_table[null_value_table<30].index \n",
    "# retained_columns.shape\n",
    "# drop_columns=null_value_table[null_value_table>30].index  \n",
    "\n",
    "# dataset.drop(drop_columns,axis=1,inplace=True)  \n",
    "\n",
    "# len(dataset.isna().sum().index)  \n",
    "\n",
    "# cont=dataset.describe().columns \n",
    "# cont\n",
    "\n",
    "# cat=[i for i in dataset.columns if i not in dataset.describe().columns]  \n",
    "# for i in cat:  \n",
    "\n",
    "#     dataset[i].fillna(dataset[i].value_counts().index[0],inplace=True)  \n",
    "\n",
    "# for i in cont:  \n",
    "\n",
    "#     dataset[i].fillna(dataset[i].median(),inplace=True)"
   ]
  },
  {
   "cell_type": "code",
   "execution_count": null,
   "metadata": {},
   "outputs": [],
   "source": [
    "# dataset.isnull().sum()"
   ]
  },
  {
   "cell_type": "code",
   "execution_count": 9,
   "metadata": {},
   "outputs": [],
   "source": [
    "dataset.drop([\"Unnamed: 22\",\"Date\"],axis=1,inplace=True)"
   ]
  },
  {
   "cell_type": "code",
   "execution_count": 10,
   "metadata": {},
   "outputs": [],
   "source": [
    "dataset[\"Chiller_flag\"].fillna(1,inplace = True)\n",
    "# dataset['Chiller_flag']"
   ]
  },
  {
   "cell_type": "code",
   "execution_count": 11,
   "metadata": {},
   "outputs": [
    {
     "data": {
      "text/plain": [
       "<matplotlib.axes._subplots.AxesSubplot at 0x19ca12e0dd8>"
      ]
     },
     "execution_count": 11,
     "metadata": {},
     "output_type": "execute_result"
    },
    {
     "data": {
      "image/png": "[encoded data removed]",
      "text/plain": [
       "<Figure size 1080x1080 with 2 Axes>"
      ]
     },
     "metadata": {
      "needs_background": "light"
     },
     "output_type": "display_data"
    }
   ],
   "source": [
    "plt.figure(figsize=(15,15))\n",
    "sb.heatmap(dataset.isnull(),cmap = 'viridis')"
   ]
  },
  {
   "cell_type": "markdown",
   "metadata": {},
   "source": [
    "### 2. Label Encoder"
   ]
  },
  {
   "cell_type": "code",
   "execution_count": 12,
   "metadata": {},
   "outputs": [],
   "source": [
    "from sklearn.preprocessing import LabelEncoder\n",
    "for i in dataset:\n",
    "    le = LabelEncoder()\n",
    "    le.fit(dataset[i])\n",
    "    x = le.transform(dataset[i])\n",
    "    dataset[i] = x"
   ]
  },
  {
   "cell_type": "code",
   "execution_count": 13,
   "metadata": {},
   "outputs": [
    {
     "data": {
      "text/html": [
       "<div>\n",
       "<style scoped>\n",
       "    .dataframe tbody tr th:only-of-type {\n",
       "        vertical-align: middle;\n",
       "    }\n",
       "\n",
       "    .dataframe tbody tr th {\n",
       "        vertical-align: top;\n",
       "    }\n",
       "\n",
       "    .dataframe thead th {\n",
       "        text-align: right;\n",
       "    }\n",
       "</style>\n",
       "<table border=\"1\" class=\"dataframe\">\n",
       "  <thead>\n",
       "    <tr style=\"text-align: right;\">\n",
       "      <th></th>\n",
       "      <th>black_hispanic</th>\n",
       "      <th>Hispanic_HHs_Index</th>\n",
       "      <th>HHs_Index_Income_75K_9999K</th>\n",
       "      <th>HHs_55_64</th>\n",
       "      <th>Total_Selling_Area</th>\n",
       "      <th>Store_Format</th>\n",
       "      <th>P26_Demand_Index</th>\n",
       "      <th>P164_Demand_Index</th>\n",
       "      <th>sales</th>\n",
       "      <th>format</th>\n",
       "      <th>...</th>\n",
       "      <th>Chiller_flag</th>\n",
       "      <th>sf1</th>\n",
       "      <th>sf2</th>\n",
       "      <th>sf3</th>\n",
       "      <th>channel_1</th>\n",
       "      <th>channel_2</th>\n",
       "      <th>channel_3</th>\n",
       "      <th>channel_4</th>\n",
       "      <th>channel_5</th>\n",
       "      <th>geography</th>\n",
       "    </tr>\n",
       "  </thead>\n",
       "  <tbody>\n",
       "    <tr>\n",
       "      <th>0</th>\n",
       "      <td>83</td>\n",
       "      <td>25</td>\n",
       "      <td>45</td>\n",
       "      <td>328</td>\n",
       "      <td>28</td>\n",
       "      <td>0</td>\n",
       "      <td>258</td>\n",
       "      <td>170</td>\n",
       "      <td>319</td>\n",
       "      <td>0</td>\n",
       "      <td>...</td>\n",
       "      <td>3</td>\n",
       "      <td>1</td>\n",
       "      <td>0</td>\n",
       "      <td>0</td>\n",
       "      <td>0</td>\n",
       "      <td>0</td>\n",
       "      <td>0</td>\n",
       "      <td>1</td>\n",
       "      <td>0</td>\n",
       "      <td>0</td>\n",
       "    </tr>\n",
       "    <tr>\n",
       "      <th>1</th>\n",
       "      <td>23</td>\n",
       "      <td>3</td>\n",
       "      <td>48</td>\n",
       "      <td>364</td>\n",
       "      <td>34</td>\n",
       "      <td>0</td>\n",
       "      <td>56</td>\n",
       "      <td>358</td>\n",
       "      <td>362</td>\n",
       "      <td>0</td>\n",
       "      <td>...</td>\n",
       "      <td>3</td>\n",
       "      <td>1</td>\n",
       "      <td>0</td>\n",
       "      <td>0</td>\n",
       "      <td>0</td>\n",
       "      <td>0</td>\n",
       "      <td>0</td>\n",
       "      <td>1</td>\n",
       "      <td>0</td>\n",
       "      <td>0</td>\n",
       "    </tr>\n",
       "    <tr>\n",
       "      <th>2</th>\n",
       "      <td>227</td>\n",
       "      <td>149</td>\n",
       "      <td>42</td>\n",
       "      <td>294</td>\n",
       "      <td>26</td>\n",
       "      <td>0</td>\n",
       "      <td>125</td>\n",
       "      <td>355</td>\n",
       "      <td>261</td>\n",
       "      <td>0</td>\n",
       "      <td>...</td>\n",
       "      <td>3</td>\n",
       "      <td>1</td>\n",
       "      <td>0</td>\n",
       "      <td>0</td>\n",
       "      <td>0</td>\n",
       "      <td>0</td>\n",
       "      <td>0</td>\n",
       "      <td>1</td>\n",
       "      <td>0</td>\n",
       "      <td>0</td>\n",
       "    </tr>\n",
       "    <tr>\n",
       "      <th>3</th>\n",
       "      <td>166</td>\n",
       "      <td>27</td>\n",
       "      <td>57</td>\n",
       "      <td>340</td>\n",
       "      <td>36</td>\n",
       "      <td>0</td>\n",
       "      <td>167</td>\n",
       "      <td>157</td>\n",
       "      <td>382</td>\n",
       "      <td>0</td>\n",
       "      <td>...</td>\n",
       "      <td>2</td>\n",
       "      <td>1</td>\n",
       "      <td>0</td>\n",
       "      <td>0</td>\n",
       "      <td>0</td>\n",
       "      <td>1</td>\n",
       "      <td>0</td>\n",
       "      <td>0</td>\n",
       "      <td>0</td>\n",
       "      <td>0</td>\n",
       "    </tr>\n",
       "    <tr>\n",
       "      <th>4</th>\n",
       "      <td>238</td>\n",
       "      <td>113</td>\n",
       "      <td>33</td>\n",
       "      <td>301</td>\n",
       "      <td>31</td>\n",
       "      <td>0</td>\n",
       "      <td>91</td>\n",
       "      <td>165</td>\n",
       "      <td>303</td>\n",
       "      <td>0</td>\n",
       "      <td>...</td>\n",
       "      <td>2</td>\n",
       "      <td>1</td>\n",
       "      <td>0</td>\n",
       "      <td>0</td>\n",
       "      <td>0</td>\n",
       "      <td>1</td>\n",
       "      <td>0</td>\n",
       "      <td>0</td>\n",
       "      <td>0</td>\n",
       "      <td>0</td>\n",
       "    </tr>\n",
       "  </tbody>\n",
       "</table>\n",
       "<p>5 rows × 21 columns</p>\n",
       "</div>"
      ],
      "text/plain": [
       "   black_hispanic  Hispanic_HHs_Index  HHs_Index_Income_75K_9999K  HHs_55_64  \\\n",
       "0              83                  25                          45        328   \n",
       "1              23                   3                          48        364   \n",
       "2             227                 149                          42        294   \n",
       "3             166                  27                          57        340   \n",
       "4             238                 113                          33        301   \n",
       "\n",
       "   Total_Selling_Area  Store_Format  P26_Demand_Index  P164_Demand_Index  \\\n",
       "0                  28             0               258                170   \n",
       "1                  34             0                56                358   \n",
       "2                  26             0               125                355   \n",
       "3                  36             0               167                157   \n",
       "4                  31             0                91                165   \n",
       "\n",
       "   sales  format  ...  Chiller_flag  sf1  sf2  sf3  channel_1  channel_2  \\\n",
       "0    319       0  ...             3    1    0    0          0          0   \n",
       "1    362       0  ...             3    1    0    0          0          0   \n",
       "2    261       0  ...             3    1    0    0          0          0   \n",
       "3    382       0  ...             2    1    0    0          0          1   \n",
       "4    303       0  ...             2    1    0    0          0          1   \n",
       "\n",
       "   channel_3  channel_4  channel_5  geography  \n",
       "0          0          1          0          0  \n",
       "1          0          1          0          0  \n",
       "2          0          1          0          0  \n",
       "3          0          0          0          0  \n",
       "4          0          0          0          0  \n",
       "\n",
       "[5 rows x 21 columns]"
      ]
     },
     "execution_count": 13,
     "metadata": {},
     "output_type": "execute_result"
    }
   ],
   "source": [
    "dataset.head()"
   ]
  },
  {
   "cell_type": "markdown",
   "metadata": {},
   "source": [
    "### 3. Univariant and Bivariant Analysis"
   ]
  },
  {
   "cell_type": "code",
   "execution_count": 14,
   "metadata": {},
   "outputs": [
    {
     "data": {
      "text/plain": [
       "sales                         22390.321122\n",
       "P26_Demand_Index              16522.877118\n",
       "P164_Demand_Index             15454.597766\n",
       "HHs_55_64                     11429.734007\n",
       "black_hispanic                 7004.116193\n",
       "Hispanic_HHs_Index             2541.787208\n",
       "HHs_Index_Income_75K_9999K      485.348956\n",
       "Total_Selling_Area              275.250255\n",
       "cluster_flag                      2.454877\n",
       "format                            2.276134\n",
       "dtype: float64"
      ]
     },
     "execution_count": 14,
     "metadata": {},
     "output_type": "execute_result"
    }
   ],
   "source": [
    "dataset.var().sort_values(ascending = False).head(10)\n",
    "# .index[0:10]"
   ]
  },
  {
   "cell_type": "markdown",
   "metadata": {},
   "source": [
    "###  Univariant Analysis"
   ]
  },
  {
   "cell_type": "code",
   "execution_count": 15,
   "metadata": {},
   "outputs": [
    {
     "data": {
      "text/plain": [
       "<matplotlib.axes._subplots.AxesSubplot at 0x19ca1e0eeb8>"
      ]
     },
     "execution_count": 15,
     "metadata": {},
     "output_type": "execute_result"
    },
    {
     "data": {
      "image/png": "[encoded data removed]",
      "text/plain": [
       "<Figure size 432x288 with 1 Axes>"
      ]
     },
     "metadata": {
      "needs_background": "light"
     },
     "output_type": "display_data"
    }
   ],
   "source": [
    "sb.boxplot(dataset['sales'])"
   ]
  },
  {
   "cell_type": "code",
   "execution_count": 16,
   "metadata": {},
   "outputs": [
    {
     "data": {
      "text/plain": [
       "<matplotlib.axes._subplots.AxesSubplot at 0x19ca1e75940>"
      ]
     },
     "execution_count": 16,
     "metadata": {},
     "output_type": "execute_result"
    },
    {
     "data": {
      "image/png": "[encoded data removed]",
      "text/plain": [
       "<Figure size 432x288 with 1 Axes>"
      ]
     },
     "metadata": {
      "needs_background": "light"
     },
     "output_type": "display_data"
    }
   ],
   "source": [
    "sb.boxplot(dataset['Total_Selling_Area'])"
   ]
  },
  {
   "cell_type": "code",
   "execution_count": 17,
   "metadata": {},
   "outputs": [
    {
     "data": {
      "text/plain": [
       "<matplotlib.axes._subplots.AxesSubplot at 0x19ca1ed8cc0>"
      ]
     },
     "execution_count": 17,
     "metadata": {},
     "output_type": "execute_result"
    },
    {
     "data": {
      "image/png": "[encoded data removed]",
      "text/plain": [
       "<Figure size 432x288 with 1 Axes>"
      ]
     },
     "metadata": {
      "needs_background": "light"
     },
     "output_type": "display_data"
    }
   ],
   "source": [
    "sb.boxplot(dataset['black_hispanic'])"
   ]
  },
  {
   "cell_type": "code",
   "execution_count": 21,
   "metadata": {},
   "outputs": [
    {
     "data": {
      "text/plain": [
       "<matplotlib.axes._subplots.AxesSubplot at 0x19ca23e77f0>"
      ]
     },
     "execution_count": 21,
     "metadata": {},
     "output_type": "execute_result"
    },
    {
     "data": {
      "image/png": "[encoded data removed]",
      "text/plain": [
       "<Figure size 432x288 with 1 Axes>"
      ]
     },
     "metadata": {
      "needs_background": "light"
     },
     "output_type": "display_data"
    }
   ],
   "source": [
    "sb.boxplot(dataset['P26_Demand_Index'])"
   ]
  },
  {
   "cell_type": "code",
   "execution_count": 22,
   "metadata": {},
   "outputs": [
    {
     "data": {
      "text/plain": [
       "<matplotlib.axes._subplots.AxesSubplot at 0x19ca242fef0>"
      ]
     },
     "execution_count": 22,
     "metadata": {},
     "output_type": "execute_result"
    },
    {
     "data": {
      "image/png": "[encoded data removed]",
      "text/plain": [
       "<Figure size 432x288 with 1 Axes>"
      ]
     },
     "metadata": {
      "needs_background": "light"
     },
     "output_type": "display_data"
    }
   ],
   "source": [
    "sb.boxplot(dataset['P164_Demand_Index'])"
   ]
  },
  {
   "cell_type": "markdown",
   "metadata": {},
   "source": [
    "###  Bivariant Analysis"
   ]
  },
  {
   "cell_type": "code",
   "execution_count": 19,
   "metadata": {},
   "outputs": [
    {
     "name": "stdout",
     "output_type": "stream",
     "text": [
      "437    2\n",
      "273    2\n",
      "375    2\n",
      "343    2\n",
      "169    2\n",
      "171    1\n",
      "174    1\n",
      "173    1\n",
      "172    1\n",
      "170    1\n",
      "Name: sales, dtype: int64\n"
     ]
    },
    {
     "data": {
      "text/plain": [
       "<matplotlib.axes._subplots.AxesSubplot at 0x19ca1f1d588>"
      ]
     },
     "execution_count": 19,
     "metadata": {},
     "output_type": "execute_result"
    },
    {
     "data": {
      "image/png": "[encoded data removed]",
      "text/plain": [
       "<Figure size 1440x720 with 1 Axes>"
      ]
     },
     "metadata": {
      "needs_background": "light"
     },
     "output_type": "display_data"
    }
   ],
   "source": [
    "plt.figure(figsize=(20,10))\n",
    "top_sales = dataset[\"sales\"].value_counts().head(10)\n",
    "print(top_sales)\n",
    "sb.barplot(x=top_sales.index,y=top_sales.values)\n",
    "# sb.countplot(x = 'sales',data=dataset)"
   ]
  },
  {
   "cell_type": "code",
   "execution_count": null,
   "metadata": {},
   "outputs": [],
   "source": []
  },
  {
   "cell_type": "markdown",
   "metadata": {},
   "source": [
    "### 4.Outlier Treatment"
   ]
  },
  {
   "cell_type": "markdown",
   "metadata": {},
   "source": [
    "#### No need for outlier treatment because from business perspective we can have sales more"
   ]
  },
  {
   "cell_type": "markdown",
   "metadata": {},
   "source": [
    "### 5. MinMax Scalar"
   ]
  },
  {
   "cell_type": "markdown",
   "metadata": {},
   "source": [
    "#### Min Max Scalar or Min Max Normalization\n",
    "#### It essentially shrinks the range such that the range is now between 0 and 1 (or -1 to 1 if there are negative values). \n",
    "#### This is done for distance based algorithms"
   ]
  },
  {
   "cell_type": "code",
   "execution_count": 31,
   "metadata": {},
   "outputs": [
    {
     "name": "stderr",
     "output_type": "stream",
     "text": [
      "C:\\Users\\sanidhya.arun\\AppData\\Local\\Continuum\\anaconda3\\lib\\site-packages\\sklearn\\preprocessing\\data.py:334: DataConversionWarning: Data with input dtype int32, int64 were all converted to float64 by MinMaxScaler.\n",
      "  return self.partial_fit(X, y)\n"
     ]
    }
   ],
   "source": [
    "from sklearn.preprocessing import MinMaxScaler\n",
    "mn = MinMaxScaler()\n",
    "mn.fit(dataset)\n",
    "x = mn.transform(dataset)"
   ]
  },
  {
   "cell_type": "code",
   "execution_count": 32,
   "metadata": {},
   "outputs": [],
   "source": [
    "x = pd.DataFrame(x)"
   ]
  },
  {
   "cell_type": "code",
   "execution_count": 33,
   "metadata": {},
   "outputs": [],
   "source": [
    "x.columns = dataset.columns\n",
    "dataset=x"
   ]
  },
  {
   "cell_type": "code",
   "execution_count": 34,
   "metadata": {},
   "outputs": [],
   "source": [
    "# dataset.head()"
   ]
  },
  {
   "cell_type": "code",
   "execution_count": 35,
   "metadata": {},
   "outputs": [
    {
     "data": {
      "text/html": [
       "<div>\n",
       "<style scoped>\n",
       "    .dataframe tbody tr th:only-of-type {\n",
       "        vertical-align: middle;\n",
       "    }\n",
       "\n",
       "    .dataframe tbody tr th {\n",
       "        vertical-align: top;\n",
       "    }\n",
       "\n",
       "    .dataframe thead th {\n",
       "        text-align: right;\n",
       "    }\n",
       "</style>\n",
       "<table border=\"1\" class=\"dataframe\">\n",
       "  <thead>\n",
       "    <tr style=\"text-align: right;\">\n",
       "      <th></th>\n",
       "      <th>black_hispanic</th>\n",
       "      <th>Hispanic_HHs_Index</th>\n",
       "      <th>HHs_Index_Income_75K_9999K</th>\n",
       "      <th>HHs_55_64</th>\n",
       "      <th>Total_Selling_Area</th>\n",
       "      <th>Store_Format</th>\n",
       "      <th>P26_Demand_Index</th>\n",
       "      <th>P164_Demand_Index</th>\n",
       "      <th>sales</th>\n",
       "      <th>format</th>\n",
       "      <th>...</th>\n",
       "      <th>Chiller_flag</th>\n",
       "      <th>sf1</th>\n",
       "      <th>sf2</th>\n",
       "      <th>sf3</th>\n",
       "      <th>channel_1</th>\n",
       "      <th>channel_2</th>\n",
       "      <th>channel_3</th>\n",
       "      <th>channel_4</th>\n",
       "      <th>channel_5</th>\n",
       "      <th>geography</th>\n",
       "    </tr>\n",
       "  </thead>\n",
       "  <tbody>\n",
       "    <tr>\n",
       "      <th>count</th>\n",
       "      <td>524.000000</td>\n",
       "      <td>524.000000</td>\n",
       "      <td>524.000000</td>\n",
       "      <td>524.000000</td>\n",
       "      <td>524.000000</td>\n",
       "      <td>524.000000</td>\n",
       "      <td>524.000000</td>\n",
       "      <td>524.000000</td>\n",
       "      <td>524.000000</td>\n",
       "      <td>524.000000</td>\n",
       "      <td>...</td>\n",
       "      <td>524.000000</td>\n",
       "      <td>524.000000</td>\n",
       "      <td>524.000000</td>\n",
       "      <td>524.000000</td>\n",
       "      <td>524.000000</td>\n",
       "      <td>524.000000</td>\n",
       "      <td>524.000000</td>\n",
       "      <td>524.000000</td>\n",
       "      <td>524.000000</td>\n",
       "      <td>524.000000</td>\n",
       "    </tr>\n",
       "    <tr>\n",
       "      <th>mean</th>\n",
       "      <td>0.379323</td>\n",
       "      <td>0.333600</td>\n",
       "      <td>0.509845</td>\n",
       "      <td>0.477286</td>\n",
       "      <td>0.321742</td>\n",
       "      <td>0.226622</td>\n",
       "      <td>0.535864</td>\n",
       "      <td>0.478960</td>\n",
       "      <td>0.501113</td>\n",
       "      <td>0.226622</td>\n",
       "      <td>...</td>\n",
       "      <td>0.727735</td>\n",
       "      <td>0.690840</td>\n",
       "      <td>0.049618</td>\n",
       "      <td>0.080153</td>\n",
       "      <td>0.372137</td>\n",
       "      <td>0.089695</td>\n",
       "      <td>0.066794</td>\n",
       "      <td>0.240458</td>\n",
       "      <td>0.146947</td>\n",
       "      <td>0.116412</td>\n",
       "    </tr>\n",
       "    <tr>\n",
       "      <th>std</th>\n",
       "      <td>0.284662</td>\n",
       "      <td>0.271055</td>\n",
       "      <td>0.205894</td>\n",
       "      <td>0.274833</td>\n",
       "      <td>0.192915</td>\n",
       "      <td>0.377172</td>\n",
       "      <td>0.292805</td>\n",
       "      <td>0.283828</td>\n",
       "      <td>0.288869</td>\n",
       "      <td>0.377172</td>\n",
       "      <td>...</td>\n",
       "      <td>0.186894</td>\n",
       "      <td>0.462589</td>\n",
       "      <td>0.217363</td>\n",
       "      <td>0.271789</td>\n",
       "      <td>0.483837</td>\n",
       "      <td>0.286017</td>\n",
       "      <td>0.249903</td>\n",
       "      <td>0.427770</td>\n",
       "      <td>0.354391</td>\n",
       "      <td>0.321025</td>\n",
       "    </tr>\n",
       "    <tr>\n",
       "      <th>min</th>\n",
       "      <td>0.000000</td>\n",
       "      <td>0.000000</td>\n",
       "      <td>0.000000</td>\n",
       "      <td>0.000000</td>\n",
       "      <td>0.000000</td>\n",
       "      <td>0.000000</td>\n",
       "      <td>0.000000</td>\n",
       "      <td>0.000000</td>\n",
       "      <td>0.000000</td>\n",
       "      <td>0.000000</td>\n",
       "      <td>...</td>\n",
       "      <td>0.000000</td>\n",
       "      <td>0.000000</td>\n",
       "      <td>0.000000</td>\n",
       "      <td>0.000000</td>\n",
       "      <td>0.000000</td>\n",
       "      <td>0.000000</td>\n",
       "      <td>0.000000</td>\n",
       "      <td>0.000000</td>\n",
       "      <td>0.000000</td>\n",
       "      <td>0.000000</td>\n",
       "    </tr>\n",
       "    <tr>\n",
       "      <th>25%</th>\n",
       "      <td>0.135204</td>\n",
       "      <td>0.112903</td>\n",
       "      <td>0.373832</td>\n",
       "      <td>0.244216</td>\n",
       "      <td>0.197674</td>\n",
       "      <td>0.000000</td>\n",
       "      <td>0.284169</td>\n",
       "      <td>0.226027</td>\n",
       "      <td>0.252413</td>\n",
       "      <td>0.000000</td>\n",
       "      <td>...</td>\n",
       "      <td>0.666667</td>\n",
       "      <td>0.000000</td>\n",
       "      <td>0.000000</td>\n",
       "      <td>0.000000</td>\n",
       "      <td>0.000000</td>\n",
       "      <td>0.000000</td>\n",
       "      <td>0.000000</td>\n",
       "      <td>0.000000</td>\n",
       "      <td>0.000000</td>\n",
       "      <td>0.000000</td>\n",
       "    </tr>\n",
       "    <tr>\n",
       "      <th>50%</th>\n",
       "      <td>0.321429</td>\n",
       "      <td>0.247312</td>\n",
       "      <td>0.518692</td>\n",
       "      <td>0.464010</td>\n",
       "      <td>0.290698</td>\n",
       "      <td>0.000000</td>\n",
       "      <td>0.556948</td>\n",
       "      <td>0.478311</td>\n",
       "      <td>0.502896</td>\n",
       "      <td>0.000000</td>\n",
       "      <td>...</td>\n",
       "      <td>0.666667</td>\n",
       "      <td>1.000000</td>\n",
       "      <td>0.000000</td>\n",
       "      <td>0.000000</td>\n",
       "      <td>0.000000</td>\n",
       "      <td>0.000000</td>\n",
       "      <td>0.000000</td>\n",
       "      <td>0.000000</td>\n",
       "      <td>0.000000</td>\n",
       "      <td>0.000000</td>\n",
       "    </tr>\n",
       "    <tr>\n",
       "      <th>75%</th>\n",
       "      <td>0.598639</td>\n",
       "      <td>0.516129</td>\n",
       "      <td>0.644860</td>\n",
       "      <td>0.701799</td>\n",
       "      <td>0.395349</td>\n",
       "      <td>0.500000</td>\n",
       "      <td>0.800114</td>\n",
       "      <td>0.715183</td>\n",
       "      <td>0.749517</td>\n",
       "      <td>0.500000</td>\n",
       "      <td>...</td>\n",
       "      <td>0.666667</td>\n",
       "      <td>1.000000</td>\n",
       "      <td>0.000000</td>\n",
       "      <td>0.000000</td>\n",
       "      <td>1.000000</td>\n",
       "      <td>0.000000</td>\n",
       "      <td>0.000000</td>\n",
       "      <td>0.000000</td>\n",
       "      <td>0.000000</td>\n",
       "      <td>0.000000</td>\n",
       "    </tr>\n",
       "    <tr>\n",
       "      <th>max</th>\n",
       "      <td>1.000000</td>\n",
       "      <td>1.000000</td>\n",
       "      <td>1.000000</td>\n",
       "      <td>1.000000</td>\n",
       "      <td>1.000000</td>\n",
       "      <td>1.000000</td>\n",
       "      <td>1.000000</td>\n",
       "      <td>1.000000</td>\n",
       "      <td>1.000000</td>\n",
       "      <td>1.000000</td>\n",
       "      <td>...</td>\n",
       "      <td>1.000000</td>\n",
       "      <td>1.000000</td>\n",
       "      <td>1.000000</td>\n",
       "      <td>1.000000</td>\n",
       "      <td>1.000000</td>\n",
       "      <td>1.000000</td>\n",
       "      <td>1.000000</td>\n",
       "      <td>1.000000</td>\n",
       "      <td>1.000000</td>\n",
       "      <td>1.000000</td>\n",
       "    </tr>\n",
       "  </tbody>\n",
       "</table>\n",
       "<p>8 rows × 21 columns</p>\n",
       "</div>"
      ],
      "text/plain": [
       "       black_hispanic  Hispanic_HHs_Index  HHs_Index_Income_75K_9999K  \\\n",
       "count      524.000000          524.000000                  524.000000   \n",
       "mean         0.379323            0.333600                    0.509845   \n",
       "std          0.284662            0.271055                    0.205894   \n",
       "min          0.000000            0.000000                    0.000000   \n",
       "25%          0.135204            0.112903                    0.373832   \n",
       "50%          0.321429            0.247312                    0.518692   \n",
       "75%          0.598639            0.516129                    0.644860   \n",
       "max          1.000000            1.000000                    1.000000   \n",
       "\n",
       "        HHs_55_64  Total_Selling_Area  Store_Format  P26_Demand_Index  \\\n",
       "count  524.000000          524.000000    524.000000        524.000000   \n",
       "mean     0.477286            0.321742      0.226622          0.535864   \n",
       "std      0.274833            0.192915      0.377172          0.292805   \n",
       "min      0.000000            0.000000      0.000000          0.000000   \n",
       "25%      0.244216            0.197674      0.000000          0.284169   \n",
       "50%      0.464010            0.290698      0.000000          0.556948   \n",
       "75%      0.701799            0.395349      0.500000          0.800114   \n",
       "max      1.000000            1.000000      1.000000          1.000000   \n",
       "\n",
       "       P164_Demand_Index       sales      format  ...  Chiller_flag  \\\n",
       "count         524.000000  524.000000  524.000000  ...    524.000000   \n",
       "mean            0.478960    0.501113    0.226622  ...      0.727735   \n",
       "std             0.283828    0.288869    0.377172  ...      0.186894   \n",
       "min             0.000000    0.000000    0.000000  ...      0.000000   \n",
       "25%             0.226027    0.252413    0.000000  ...      0.666667   \n",
       "50%             0.478311    0.502896    0.000000  ...      0.666667   \n",
       "75%             0.715183    0.749517    0.500000  ...      0.666667   \n",
       "max             1.000000    1.000000    1.000000  ...      1.000000   \n",
       "\n",
       "              sf1         sf2         sf3   channel_1   channel_2   channel_3  \\\n",
       "count  524.000000  524.000000  524.000000  524.000000  524.000000  524.000000   \n",
       "mean     0.690840    0.049618    0.080153    0.372137    0.089695    0.066794   \n",
       "std      0.462589    0.217363    0.271789    0.483837    0.286017    0.249903   \n",
       "min      0.000000    0.000000    0.000000    0.000000    0.000000    0.000000   \n",
       "25%      0.000000    0.000000    0.000000    0.000000    0.000000    0.000000   \n",
       "50%      1.000000    0.000000    0.000000    0.000000    0.000000    0.000000   \n",
       "75%      1.000000    0.000000    0.000000    1.000000    0.000000    0.000000   \n",
       "max      1.000000    1.000000    1.000000    1.000000    1.000000    1.000000   \n",
       "\n",
       "        channel_4   channel_5   geography  \n",
       "count  524.000000  524.000000  524.000000  \n",
       "mean     0.240458    0.146947    0.116412  \n",
       "std      0.427770    0.354391    0.321025  \n",
       "min      0.000000    0.000000    0.000000  \n",
       "25%      0.000000    0.000000    0.000000  \n",
       "50%      0.000000    0.000000    0.000000  \n",
       "75%      0.000000    0.000000    0.000000  \n",
       "max      1.000000    1.000000    1.000000  \n",
       "\n",
       "[8 rows x 21 columns]"
      ]
     },
     "execution_count": 35,
     "metadata": {},
     "output_type": "execute_result"
    }
   ],
   "source": [
    "dataset.describe()"
   ]
  },
  {
   "cell_type": "markdown",
   "metadata": {},
   "source": [
    "### Model Building"
   ]
  },
  {
   "cell_type": "code",
   "execution_count": 52,
   "metadata": {},
   "outputs": [
    {
     "data": {
      "text/plain": [
       "array([0, 0, 0, 0, 0, 0, 0, 0, 0, 0, 0, 0, 0, 0, 0, 0, 0, 0, 0, 0, 0, 0,\n",
       "       0, 0, 0, 0, 0, 0, 0, 0, 0, 0, 0, 0, 0, 0, 0, 0, 0, 0, 0, 0, 0, 0,\n",
       "       0, 0, 0, 0, 0, 0, 0, 0, 0, 0, 0, 0, 0, 0, 0, 0, 0, 0, 0, 0, 0, 0,\n",
       "       0, 0, 0, 0, 0, 0, 0, 0, 0, 0, 0, 0, 0, 0, 0, 0, 0, 0, 0, 0, 0, 0,\n",
       "       0, 0, 0, 0, 0, 0, 0, 0, 0, 0, 0, 0, 0, 0, 0, 0, 0, 0, 0, 0, 0, 0,\n",
       "       0, 0, 0, 0, 0, 0, 0, 0, 0, 0, 0, 0, 0, 0, 0, 0, 0, 0, 0, 0, 0, 0,\n",
       "       0, 0, 0, 0, 0, 0, 0, 0, 0, 0, 0, 0, 0, 0, 0, 0, 0, 0, 0, 0, 0, 0,\n",
       "       0, 0, 0, 0, 0, 0, 0, 0, 0, 0, 0, 0, 0, 0, 0, 0, 0, 0, 0, 0, 0, 0,\n",
       "       0, 0, 0, 0, 0, 0, 0, 0, 0, 0, 0, 0, 0, 0, 0, 0, 0, 0, 0, 0, 0, 0,\n",
       "       0, 0, 0, 0, 0, 0, 0, 0, 0, 0, 0, 0, 0, 0, 0, 0, 0, 0, 0, 0, 0, 0,\n",
       "       0, 0, 0, 0, 0, 0, 0, 0, 0, 0, 0, 0, 0, 0, 0, 0, 0, 0, 0, 0, 0, 0,\n",
       "       0, 0, 0, 0, 0, 0, 0, 0, 0, 0, 0, 0, 0, 0, 0, 0, 0, 0, 0, 0, 0, 0,\n",
       "       0, 0, 0, 0, 0, 0, 0, 0, 0, 0, 0, 0, 0, 0, 0, 0, 0, 0, 0, 0, 0, 0,\n",
       "       0, 0, 0, 0, 0, 0, 0, 0, 0, 0, 0, 0, 0, 0, 0, 0, 0, 0, 0, 0, 0, 0,\n",
       "       0, 0, 0, 0, 0, 0, 0, 0, 0, 0, 0, 0, 0, 0, 0, 0, 0, 0, 0, 0, 0, 0,\n",
       "       0, 0, 0, 0, 0, 0, 0, 0, 0, 0, 0, 0, 0, 0, 0, 0, 0, 0, 0, 0, 0, 0,\n",
       "       0, 0, 0, 0, 0, 0, 0, 0, 0, 0, 1, 1, 1, 1, 1, 1, 1, 1, 1, 1, 1, 1,\n",
       "       1, 1, 1, 1, 1, 1, 1, 1, 1, 1, 1, 1, 1, 1, 1, 1, 1, 1, 1, 1, 1, 1,\n",
       "       1, 1, 1, 1, 1, 1, 1, 1, 1, 1, 1, 1, 1, 1, 1, 1, 1, 1, 1, 1, 1, 1,\n",
       "       1, 1, 1, 1, 1, 1, 1, 1, 1, 1, 1, 1, 1, 1, 1, 1, 1, 1, 1, 1, 1, 1,\n",
       "       1, 1, 1, 1, 1, 1, 1, 1, 1, 1, 1, 1, 1, 1, 1, 1, 1, 1, 1, 1, 1, 1,\n",
       "       1, 1, 1, 1, 1, 1, 1, 1, 1, 1, 1, 1, 1, 1, 1, 1, 1, 1, 1, 1, 1, 1,\n",
       "       1, 1, 1, 1, 1, 1, 1, 1, 1, 1, 1, 1, 1, 1, 1, 1, 1, 1, 1, 1, 1, 1,\n",
       "       1, 1, 1, 1, 1, 1, 1, 1, 1, 1, 1, 1, 1, 1, 1, 1, 1, 1])"
      ]
     },
     "execution_count": 52,
     "metadata": {},
     "output_type": "execute_result"
    }
   ],
   "source": [
    "from sklearn.cluster import KMeans\n",
    "km = KMeans(n_clusters=2)\n",
    "km.fit(x)\n",
    "km.labels_"
   ]
  },
  {
   "cell_type": "code",
   "execution_count": 53,
   "metadata": {},
   "outputs": [
    {
     "data": {
      "text/plain": [
       "524"
      ]
     },
     "execution_count": 53,
     "metadata": {},
     "output_type": "execute_result"
    }
   ],
   "source": [
    "len(km.labels_)"
   ]
  },
  {
   "cell_type": "code",
   "execution_count": 54,
   "metadata": {},
   "outputs": [],
   "source": [
    "dataset = pd.read_excel(\"C:\\\\ML_Practice_Data\\\\Sample Dataset.xlsx\",encoding =\"latin1\" )"
   ]
  },
  {
   "cell_type": "code",
   "execution_count": 55,
   "metadata": {},
   "outputs": [],
   "source": [
    "dataset['Cluster'] = km.labels_"
   ]
  },
  {
   "cell_type": "markdown",
   "metadata": {},
   "source": [
    "### Model Interpretation"
   ]
  },
  {
   "cell_type": "code",
   "execution_count": 56,
   "metadata": {},
   "outputs": [
    {
     "data": {
      "text/plain": [
       "0    362\n",
       "1    162\n",
       "Name: Cluster, dtype: int64"
      ]
     },
     "execution_count": 56,
     "metadata": {},
     "output_type": "execute_result"
    }
   ],
   "source": [
    "dataset['Cluster'].value_counts()"
   ]
  },
  {
   "cell_type": "code",
   "execution_count": 57,
   "metadata": {},
   "outputs": [
    {
     "data": {
      "text/plain": [
       "0    69.083969\n",
       "1    30.916031\n",
       "Name: Cluster, dtype: float64"
      ]
     },
     "execution_count": 57,
     "metadata": {},
     "output_type": "execute_result"
    }
   ],
   "source": [
    "dataset['Cluster'].value_counts(normalize = True)*100"
   ]
  },
  {
   "cell_type": "code",
   "execution_count": null,
   "metadata": {},
   "outputs": [],
   "source": [
    "### Both the clusters are showing same pettern for sales vs black_hispanic."
   ]
  },
  {
   "cell_type": "code",
   "execution_count": 59,
   "metadata": {},
   "outputs": [
    {
     "data": {
      "text/html": [
       "<div>\n",
       "<style scoped>\n",
       "    .dataframe tbody tr th:only-of-type {\n",
       "        vertical-align: middle;\n",
       "    }\n",
       "\n",
       "    .dataframe tbody tr th {\n",
       "        vertical-align: top;\n",
       "    }\n",
       "\n",
       "    .dataframe thead th {\n",
       "        text-align: right;\n",
       "    }\n",
       "</style>\n",
       "<table border=\"1\" class=\"dataframe\">\n",
       "  <thead>\n",
       "    <tr style=\"text-align: right;\">\n",
       "      <th></th>\n",
       "      <th>black_hispanic</th>\n",
       "      <th>Hispanic_HHs_Index</th>\n",
       "      <th>HHs_Index_Income_75K_9999K</th>\n",
       "      <th>HHs_55_64</th>\n",
       "      <th>Total_Selling_Area</th>\n",
       "      <th>P26_Demand_Index</th>\n",
       "      <th>P164_Demand_Index</th>\n",
       "      <th>sales</th>\n",
       "      <th>format</th>\n",
       "      <th>cluster_flag</th>\n",
       "      <th>...</th>\n",
       "      <th>sf1</th>\n",
       "      <th>sf2</th>\n",
       "      <th>sf3</th>\n",
       "      <th>channel_1</th>\n",
       "      <th>channel_2</th>\n",
       "      <th>channel_3</th>\n",
       "      <th>channel_4</th>\n",
       "      <th>channel_5</th>\n",
       "      <th>Unnamed: 22</th>\n",
       "      <th>Cluster</th>\n",
       "    </tr>\n",
       "  </thead>\n",
       "  <tbody>\n",
       "    <tr>\n",
       "      <th>count</th>\n",
       "      <td>362.000000</td>\n",
       "      <td>362.000000</td>\n",
       "      <td>362.000000</td>\n",
       "      <td>362.000000</td>\n",
       "      <td>362.000000</td>\n",
       "      <td>362.000000</td>\n",
       "      <td>362.000000</td>\n",
       "      <td>362.000000</td>\n",
       "      <td>362.0</td>\n",
       "      <td>362.000000</td>\n",
       "      <td>...</td>\n",
       "      <td>362.0</td>\n",
       "      <td>362.0</td>\n",
       "      <td>362.0</td>\n",
       "      <td>362.000000</td>\n",
       "      <td>362.000000</td>\n",
       "      <td>362.000000</td>\n",
       "      <td>362.000000</td>\n",
       "      <td>362.000000</td>\n",
       "      <td>362.000000</td>\n",
       "      <td>362.0</td>\n",
       "    </tr>\n",
       "    <tr>\n",
       "      <th>mean</th>\n",
       "      <td>183.961326</td>\n",
       "      <td>66.643646</td>\n",
       "      <td>108.254144</td>\n",
       "      <td>488.831492</td>\n",
       "      <td>43287.292818</td>\n",
       "      <td>105.897928</td>\n",
       "      <td>101.781131</td>\n",
       "      <td>75.001917</td>\n",
       "      <td>1.0</td>\n",
       "      <td>2.483425</td>\n",
       "      <td>...</td>\n",
       "      <td>1.0</td>\n",
       "      <td>0.0</td>\n",
       "      <td>0.0</td>\n",
       "      <td>0.422652</td>\n",
       "      <td>0.091160</td>\n",
       "      <td>0.041436</td>\n",
       "      <td>0.223757</td>\n",
       "      <td>0.135359</td>\n",
       "      <td>181.500000</td>\n",
       "      <td>0.0</td>\n",
       "    </tr>\n",
       "    <tr>\n",
       "      <th>std</th>\n",
       "      <td>240.833844</td>\n",
       "      <td>72.892419</td>\n",
       "      <td>24.051228</td>\n",
       "      <td>199.510653</td>\n",
       "      <td>8702.233538</td>\n",
       "      <td>16.658910</td>\n",
       "      <td>17.356295</td>\n",
       "      <td>38.441116</td>\n",
       "      <td>0.0</td>\n",
       "      <td>1.574028</td>\n",
       "      <td>...</td>\n",
       "      <td>0.0</td>\n",
       "      <td>0.0</td>\n",
       "      <td>0.0</td>\n",
       "      <td>0.494665</td>\n",
       "      <td>0.288235</td>\n",
       "      <td>0.199573</td>\n",
       "      <td>0.417338</td>\n",
       "      <td>0.342580</td>\n",
       "      <td>104.644637</td>\n",
       "      <td>0.0</td>\n",
       "    </tr>\n",
       "    <tr>\n",
       "      <th>min</th>\n",
       "      <td>1.000000</td>\n",
       "      <td>3.000000</td>\n",
       "      <td>42.000000</td>\n",
       "      <td>167.000000</td>\n",
       "      <td>19000.000000</td>\n",
       "      <td>52.060692</td>\n",
       "      <td>67.006428</td>\n",
       "      <td>14.235556</td>\n",
       "      <td>1.0</td>\n",
       "      <td>1.000000</td>\n",
       "      <td>...</td>\n",
       "      <td>1.0</td>\n",
       "      <td>0.0</td>\n",
       "      <td>0.0</td>\n",
       "      <td>0.000000</td>\n",
       "      <td>0.000000</td>\n",
       "      <td>0.000000</td>\n",
       "      <td>0.000000</td>\n",
       "      <td>0.000000</td>\n",
       "      <td>1.000000</td>\n",
       "      <td>0.0</td>\n",
       "    </tr>\n",
       "    <tr>\n",
       "      <th>25%</th>\n",
       "      <td>40.000000</td>\n",
       "      <td>20.000000</td>\n",
       "      <td>93.000000</td>\n",
       "      <td>340.250000</td>\n",
       "      <td>38000.000000</td>\n",
       "      <td>97.482469</td>\n",
       "      <td>90.000000</td>\n",
       "      <td>46.663689</td>\n",
       "      <td>1.0</td>\n",
       "      <td>1.000000</td>\n",
       "      <td>...</td>\n",
       "      <td>1.0</td>\n",
       "      <td>0.0</td>\n",
       "      <td>0.0</td>\n",
       "      <td>0.000000</td>\n",
       "      <td>0.000000</td>\n",
       "      <td>0.000000</td>\n",
       "      <td>0.000000</td>\n",
       "      <td>0.000000</td>\n",
       "      <td>91.250000</td>\n",
       "      <td>0.0</td>\n",
       "    </tr>\n",
       "    <tr>\n",
       "      <th>50%</th>\n",
       "      <td>107.000000</td>\n",
       "      <td>41.000000</td>\n",
       "      <td>109.500000</td>\n",
       "      <td>453.000000</td>\n",
       "      <td>44000.000000</td>\n",
       "      <td>107.100433</td>\n",
       "      <td>100.661083</td>\n",
       "      <td>65.759544</td>\n",
       "      <td>1.0</td>\n",
       "      <td>2.000000</td>\n",
       "      <td>...</td>\n",
       "      <td>1.0</td>\n",
       "      <td>0.0</td>\n",
       "      <td>0.0</td>\n",
       "      <td>0.000000</td>\n",
       "      <td>0.000000</td>\n",
       "      <td>0.000000</td>\n",
       "      <td>0.000000</td>\n",
       "      <td>0.000000</td>\n",
       "      <td>181.500000</td>\n",
       "      <td>0.0</td>\n",
       "    </tr>\n",
       "    <tr>\n",
       "      <th>75%</th>\n",
       "      <td>222.000000</td>\n",
       "      <td>90.750000</td>\n",
       "      <td>125.000000</td>\n",
       "      <td>598.250000</td>\n",
       "      <td>50000.000000</td>\n",
       "      <td>116.000000</td>\n",
       "      <td>112.000000</td>\n",
       "      <td>97.333333</td>\n",
       "      <td>1.0</td>\n",
       "      <td>4.000000</td>\n",
       "      <td>...</td>\n",
       "      <td>1.0</td>\n",
       "      <td>0.0</td>\n",
       "      <td>0.0</td>\n",
       "      <td>1.000000</td>\n",
       "      <td>0.000000</td>\n",
       "      <td>0.000000</td>\n",
       "      <td>0.000000</td>\n",
       "      <td>0.000000</td>\n",
       "      <td>271.750000</td>\n",
       "      <td>0.0</td>\n",
       "    </tr>\n",
       "    <tr>\n",
       "      <th>max</th>\n",
       "      <td>1950.000000</td>\n",
       "      <td>545.000000</td>\n",
       "      <td>189.000000</td>\n",
       "      <td>1248.000000</td>\n",
       "      <td>60000.000000</td>\n",
       "      <td>156.353616</td>\n",
       "      <td>198.202137</td>\n",
       "      <td>250.740741</td>\n",
       "      <td>1.0</td>\n",
       "      <td>6.000000</td>\n",
       "      <td>...</td>\n",
       "      <td>1.0</td>\n",
       "      <td>0.0</td>\n",
       "      <td>0.0</td>\n",
       "      <td>1.000000</td>\n",
       "      <td>1.000000</td>\n",
       "      <td>1.000000</td>\n",
       "      <td>1.000000</td>\n",
       "      <td>1.000000</td>\n",
       "      <td>362.000000</td>\n",
       "      <td>0.0</td>\n",
       "    </tr>\n",
       "  </tbody>\n",
       "</table>\n",
       "<p>8 rows × 21 columns</p>\n",
       "</div>"
      ],
      "text/plain": [
       "       black_hispanic  Hispanic_HHs_Index  HHs_Index_Income_75K_9999K  \\\n",
       "count      362.000000          362.000000                  362.000000   \n",
       "mean       183.961326           66.643646                  108.254144   \n",
       "std        240.833844           72.892419                   24.051228   \n",
       "min          1.000000            3.000000                   42.000000   \n",
       "25%         40.000000           20.000000                   93.000000   \n",
       "50%        107.000000           41.000000                  109.500000   \n",
       "75%        222.000000           90.750000                  125.000000   \n",
       "max       1950.000000          545.000000                  189.000000   \n",
       "\n",
       "         HHs_55_64  Total_Selling_Area  P26_Demand_Index  P164_Demand_Index  \\\n",
       "count   362.000000          362.000000        362.000000         362.000000   \n",
       "mean    488.831492        43287.292818        105.897928         101.781131   \n",
       "std     199.510653         8702.233538         16.658910          17.356295   \n",
       "min     167.000000        19000.000000         52.060692          67.006428   \n",
       "25%     340.250000        38000.000000         97.482469          90.000000   \n",
       "50%     453.000000        44000.000000        107.100433         100.661083   \n",
       "75%     598.250000        50000.000000        116.000000         112.000000   \n",
       "max    1248.000000        60000.000000        156.353616         198.202137   \n",
       "\n",
       "            sales  format  cluster_flag  ...    sf1    sf2    sf3   channel_1  \\\n",
       "count  362.000000   362.0    362.000000  ...  362.0  362.0  362.0  362.000000   \n",
       "mean    75.001917     1.0      2.483425  ...    1.0    0.0    0.0    0.422652   \n",
       "std     38.441116     0.0      1.574028  ...    0.0    0.0    0.0    0.494665   \n",
       "min     14.235556     1.0      1.000000  ...    1.0    0.0    0.0    0.000000   \n",
       "25%     46.663689     1.0      1.000000  ...    1.0    0.0    0.0    0.000000   \n",
       "50%     65.759544     1.0      2.000000  ...    1.0    0.0    0.0    0.000000   \n",
       "75%     97.333333     1.0      4.000000  ...    1.0    0.0    0.0    1.000000   \n",
       "max    250.740741     1.0      6.000000  ...    1.0    0.0    0.0    1.000000   \n",
       "\n",
       "        channel_2   channel_3   channel_4   channel_5  Unnamed: 22  Cluster  \n",
       "count  362.000000  362.000000  362.000000  362.000000   362.000000    362.0  \n",
       "mean     0.091160    0.041436    0.223757    0.135359   181.500000      0.0  \n",
       "std      0.288235    0.199573    0.417338    0.342580   104.644637      0.0  \n",
       "min      0.000000    0.000000    0.000000    0.000000     1.000000      0.0  \n",
       "25%      0.000000    0.000000    0.000000    0.000000    91.250000      0.0  \n",
       "50%      0.000000    0.000000    0.000000    0.000000   181.500000      0.0  \n",
       "75%      0.000000    0.000000    0.000000    0.000000   271.750000      0.0  \n",
       "max      1.000000    1.000000    1.000000    1.000000   362.000000      0.0  \n",
       "\n",
       "[8 rows x 21 columns]"
      ]
     },
     "execution_count": 59,
     "metadata": {},
     "output_type": "execute_result"
    }
   ],
   "source": [
    "dataset[dataset['Cluster']==0].describe()"
   ]
  },
  {
   "cell_type": "code",
   "execution_count": 60,
   "metadata": {},
   "outputs": [
    {
     "data": {
      "text/html": [
       "<div>\n",
       "<style scoped>\n",
       "    .dataframe tbody tr th:only-of-type {\n",
       "        vertical-align: middle;\n",
       "    }\n",
       "\n",
       "    .dataframe tbody tr th {\n",
       "        vertical-align: top;\n",
       "    }\n",
       "\n",
       "    .dataframe thead th {\n",
       "        text-align: right;\n",
       "    }\n",
       "</style>\n",
       "<table border=\"1\" class=\"dataframe\">\n",
       "  <thead>\n",
       "    <tr style=\"text-align: right;\">\n",
       "      <th></th>\n",
       "      <th>black_hispanic</th>\n",
       "      <th>Hispanic_HHs_Index</th>\n",
       "      <th>HHs_Index_Income_75K_9999K</th>\n",
       "      <th>HHs_55_64</th>\n",
       "      <th>Total_Selling_Area</th>\n",
       "      <th>P26_Demand_Index</th>\n",
       "      <th>P164_Demand_Index</th>\n",
       "      <th>sales</th>\n",
       "      <th>format</th>\n",
       "      <th>cluster_flag</th>\n",
       "      <th>...</th>\n",
       "      <th>sf1</th>\n",
       "      <th>sf2</th>\n",
       "      <th>sf3</th>\n",
       "      <th>channel_1</th>\n",
       "      <th>channel_2</th>\n",
       "      <th>channel_3</th>\n",
       "      <th>channel_4</th>\n",
       "      <th>channel_5</th>\n",
       "      <th>Unnamed: 22</th>\n",
       "      <th>Cluster</th>\n",
       "    </tr>\n",
       "  </thead>\n",
       "  <tbody>\n",
       "    <tr>\n",
       "      <th>count</th>\n",
       "      <td>162.000000</td>\n",
       "      <td>162.000000</td>\n",
       "      <td>162.000000</td>\n",
       "      <td>162.000000</td>\n",
       "      <td>162.000000</td>\n",
       "      <td>162.000000</td>\n",
       "      <td>162.000000</td>\n",
       "      <td>162.000000</td>\n",
       "      <td>162.000000</td>\n",
       "      <td>162.000000</td>\n",
       "      <td>...</td>\n",
       "      <td>162.0</td>\n",
       "      <td>162.000000</td>\n",
       "      <td>162.000000</td>\n",
       "      <td>162.000000</td>\n",
       "      <td>162.000000</td>\n",
       "      <td>162.000000</td>\n",
       "      <td>162.000000</td>\n",
       "      <td>162.000000</td>\n",
       "      <td>136.000000</td>\n",
       "      <td>162.0</td>\n",
       "    </tr>\n",
       "    <tr>\n",
       "      <th>mean</th>\n",
       "      <td>292.679012</td>\n",
       "      <td>92.537037</td>\n",
       "      <td>108.888889</td>\n",
       "      <td>646.722222</td>\n",
       "      <td>72135.802469</td>\n",
       "      <td>108.073689</td>\n",
       "      <td>101.733838</td>\n",
       "      <td>104.650970</td>\n",
       "      <td>3.932099</td>\n",
       "      <td>2.388889</td>\n",
       "      <td>...</td>\n",
       "      <td>0.0</td>\n",
       "      <td>0.160494</td>\n",
       "      <td>0.259259</td>\n",
       "      <td>0.259259</td>\n",
       "      <td>0.086420</td>\n",
       "      <td>0.123457</td>\n",
       "      <td>0.277778</td>\n",
       "      <td>0.172840</td>\n",
       "      <td>456.500000</td>\n",
       "      <td>1.0</td>\n",
       "    </tr>\n",
       "    <tr>\n",
       "      <th>std</th>\n",
       "      <td>632.795009</td>\n",
       "      <td>71.580137</td>\n",
       "      <td>20.872282</td>\n",
       "      <td>562.326967</td>\n",
       "      <td>56633.123132</td>\n",
       "      <td>15.979229</td>\n",
       "      <td>16.756499</td>\n",
       "      <td>65.700771</td>\n",
       "      <td>1.190681</td>\n",
       "      <td>1.553397</td>\n",
       "      <td>...</td>\n",
       "      <td>0.0</td>\n",
       "      <td>0.368202</td>\n",
       "      <td>0.439587</td>\n",
       "      <td>0.439587</td>\n",
       "      <td>0.281854</td>\n",
       "      <td>0.329981</td>\n",
       "      <td>0.449292</td>\n",
       "      <td>0.379281</td>\n",
       "      <td>39.403892</td>\n",
       "      <td>0.0</td>\n",
       "    </tr>\n",
       "    <tr>\n",
       "      <th>min</th>\n",
       "      <td>1.000000</td>\n",
       "      <td>6.000000</td>\n",
       "      <td>57.000000</td>\n",
       "      <td>84.000000</td>\n",
       "      <td>18000.000000</td>\n",
       "      <td>51.533147</td>\n",
       "      <td>69.263975</td>\n",
       "      <td>10.290000</td>\n",
       "      <td>2.000000</td>\n",
       "      <td>1.000000</td>\n",
       "      <td>...</td>\n",
       "      <td>0.0</td>\n",
       "      <td>0.000000</td>\n",
       "      <td>0.000000</td>\n",
       "      <td>0.000000</td>\n",
       "      <td>0.000000</td>\n",
       "      <td>0.000000</td>\n",
       "      <td>0.000000</td>\n",
       "      <td>0.000000</td>\n",
       "      <td>389.000000</td>\n",
       "      <td>1.0</td>\n",
       "    </tr>\n",
       "    <tr>\n",
       "      <th>25%</th>\n",
       "      <td>44.250000</td>\n",
       "      <td>38.250000</td>\n",
       "      <td>97.000000</td>\n",
       "      <td>248.000000</td>\n",
       "      <td>31000.000000</td>\n",
       "      <td>99.076915</td>\n",
       "      <td>90.066858</td>\n",
       "      <td>54.818942</td>\n",
       "      <td>3.000000</td>\n",
       "      <td>1.000000</td>\n",
       "      <td>...</td>\n",
       "      <td>0.0</td>\n",
       "      <td>0.000000</td>\n",
       "      <td>0.000000</td>\n",
       "      <td>0.000000</td>\n",
       "      <td>0.000000</td>\n",
       "      <td>0.000000</td>\n",
       "      <td>0.000000</td>\n",
       "      <td>0.000000</td>\n",
       "      <td>422.750000</td>\n",
       "      <td>1.0</td>\n",
       "    </tr>\n",
       "    <tr>\n",
       "      <th>50%</th>\n",
       "      <td>100.000000</td>\n",
       "      <td>67.000000</td>\n",
       "      <td>109.500000</td>\n",
       "      <td>430.000000</td>\n",
       "      <td>45000.000000</td>\n",
       "      <td>109.607351</td>\n",
       "      <td>100.714916</td>\n",
       "      <td>84.678953</td>\n",
       "      <td>5.000000</td>\n",
       "      <td>2.000000</td>\n",
       "      <td>...</td>\n",
       "      <td>0.0</td>\n",
       "      <td>0.000000</td>\n",
       "      <td>0.000000</td>\n",
       "      <td>0.000000</td>\n",
       "      <td>0.000000</td>\n",
       "      <td>0.000000</td>\n",
       "      <td>0.000000</td>\n",
       "      <td>0.000000</td>\n",
       "      <td>456.500000</td>\n",
       "      <td>1.0</td>\n",
       "    </tr>\n",
       "    <tr>\n",
       "      <th>75%</th>\n",
       "      <td>220.750000</td>\n",
       "      <td>133.750000</td>\n",
       "      <td>122.000000</td>\n",
       "      <td>820.500000</td>\n",
       "      <td>96750.000000</td>\n",
       "      <td>117.200305</td>\n",
       "      <td>112.905478</td>\n",
       "      <td>150.212167</td>\n",
       "      <td>5.000000</td>\n",
       "      <td>3.000000</td>\n",
       "      <td>...</td>\n",
       "      <td>0.0</td>\n",
       "      <td>0.000000</td>\n",
       "      <td>1.000000</td>\n",
       "      <td>1.000000</td>\n",
       "      <td>0.000000</td>\n",
       "      <td>0.000000</td>\n",
       "      <td>1.000000</td>\n",
       "      <td>0.000000</td>\n",
       "      <td>490.250000</td>\n",
       "      <td>1.0</td>\n",
       "    </tr>\n",
       "    <tr>\n",
       "      <th>max</th>\n",
       "      <td>4136.000000</td>\n",
       "      <td>334.000000</td>\n",
       "      <td>176.000000</td>\n",
       "      <td>2500.000000</td>\n",
       "      <td>233000.000000</td>\n",
       "      <td>144.085728</td>\n",
       "      <td>162.521265</td>\n",
       "      <td>296.740741</td>\n",
       "      <td>5.000000</td>\n",
       "      <td>6.000000</td>\n",
       "      <td>...</td>\n",
       "      <td>0.0</td>\n",
       "      <td>1.000000</td>\n",
       "      <td>1.000000</td>\n",
       "      <td>1.000000</td>\n",
       "      <td>1.000000</td>\n",
       "      <td>1.000000</td>\n",
       "      <td>1.000000</td>\n",
       "      <td>1.000000</td>\n",
       "      <td>524.000000</td>\n",
       "      <td>1.0</td>\n",
       "    </tr>\n",
       "  </tbody>\n",
       "</table>\n",
       "<p>8 rows × 21 columns</p>\n",
       "</div>"
      ],
      "text/plain": [
       "       black_hispanic  Hispanic_HHs_Index  HHs_Index_Income_75K_9999K  \\\n",
       "count      162.000000          162.000000                  162.000000   \n",
       "mean       292.679012           92.537037                  108.888889   \n",
       "std        632.795009           71.580137                   20.872282   \n",
       "min          1.000000            6.000000                   57.000000   \n",
       "25%         44.250000           38.250000                   97.000000   \n",
       "50%        100.000000           67.000000                  109.500000   \n",
       "75%        220.750000          133.750000                  122.000000   \n",
       "max       4136.000000          334.000000                  176.000000   \n",
       "\n",
       "         HHs_55_64  Total_Selling_Area  P26_Demand_Index  P164_Demand_Index  \\\n",
       "count   162.000000          162.000000        162.000000         162.000000   \n",
       "mean    646.722222        72135.802469        108.073689         101.733838   \n",
       "std     562.326967        56633.123132         15.979229          16.756499   \n",
       "min      84.000000        18000.000000         51.533147          69.263975   \n",
       "25%     248.000000        31000.000000         99.076915          90.066858   \n",
       "50%     430.000000        45000.000000        109.607351         100.714916   \n",
       "75%     820.500000        96750.000000        117.200305         112.905478   \n",
       "max    2500.000000       233000.000000        144.085728         162.521265   \n",
       "\n",
       "            sales      format  cluster_flag  ...    sf1         sf2  \\\n",
       "count  162.000000  162.000000    162.000000  ...  162.0  162.000000   \n",
       "mean   104.650970    3.932099      2.388889  ...    0.0    0.160494   \n",
       "std     65.700771    1.190681      1.553397  ...    0.0    0.368202   \n",
       "min     10.290000    2.000000      1.000000  ...    0.0    0.000000   \n",
       "25%     54.818942    3.000000      1.000000  ...    0.0    0.000000   \n",
       "50%     84.678953    5.000000      2.000000  ...    0.0    0.000000   \n",
       "75%    150.212167    5.000000      3.000000  ...    0.0    0.000000   \n",
       "max    296.740741    5.000000      6.000000  ...    0.0    1.000000   \n",
       "\n",
       "              sf3   channel_1   channel_2   channel_3   channel_4   channel_5  \\\n",
       "count  162.000000  162.000000  162.000000  162.000000  162.000000  162.000000   \n",
       "mean     0.259259    0.259259    0.086420    0.123457    0.277778    0.172840   \n",
       "std      0.439587    0.439587    0.281854    0.329981    0.449292    0.379281   \n",
       "min      0.000000    0.000000    0.000000    0.000000    0.000000    0.000000   \n",
       "25%      0.000000    0.000000    0.000000    0.000000    0.000000    0.000000   \n",
       "50%      0.000000    0.000000    0.000000    0.000000    0.000000    0.000000   \n",
       "75%      1.000000    1.000000    0.000000    0.000000    1.000000    0.000000   \n",
       "max      1.000000    1.000000    1.000000    1.000000    1.000000    1.000000   \n",
       "\n",
       "       Unnamed: 22  Cluster  \n",
       "count   136.000000    162.0  \n",
       "mean    456.500000      1.0  \n",
       "std      39.403892      0.0  \n",
       "min     389.000000      1.0  \n",
       "25%     422.750000      1.0  \n",
       "50%     456.500000      1.0  \n",
       "75%     490.250000      1.0  \n",
       "max     524.000000      1.0  \n",
       "\n",
       "[8 rows x 21 columns]"
      ]
     },
     "execution_count": 60,
     "metadata": {},
     "output_type": "execute_result"
    }
   ],
   "source": [
    "dataset[dataset['Cluster']==1].describe()"
   ]
  },
  {
   "cell_type": "code",
   "execution_count": 58,
   "metadata": {},
   "outputs": [
    {
     "data": {
      "image/png": "[encoded data removed]",
      "text/plain": [
       "<Figure size 432x288 with 1 Axes>"
      ]
     },
     "metadata": {
      "needs_background": "light"
     },
     "output_type": "display_data"
    }
   ],
   "source": [
    "sb.scatterplot(x = \"sales\", y = \"black_hispanic\", data = dataset[dataset[\"Cluster\"]==0])\n",
    "sb.scatterplot(x = \"sales\", y = \"black_hispanic\", data = dataset[dataset[\"Cluster\"]==1])\n",
    "# sb.scatterplot(x = \"sales\", y = \"black_hispanic\", data = dataset[dataset[\"Cluster\"]==2])\n",
    "# sb.scatterplot(x = \"sales\", y = \"Total_Selling_Area\", data = dataset[dataset[\"Cluster\"]==4])\n",
    "# sb.scatterplot(x = \"sales\", y = \"Total_Selling_Area\", data = dataset[dataset[\"Cluster\"]==5])\n",
    "# sb.scatterplot(x = \"sales\", y = \"Total_Selling_Area\", data = dataset[dataset[\"Cluster\"]==6])\n",
    "plt.show()"
   ]
  },
  {
   "cell_type": "code",
   "execution_count": null,
   "metadata": {},
   "outputs": [],
   "source": []
  }
 ],
 "metadata": {
  "kernelspec": {
   "display_name": "Python 3",
   "language": "python",
   "name": "python3"
  },
  "language_info": {
   "codemirror_mode": {
    "name": "ipython",
    "version": 3
   },
   "file_extension": ".py",
   "mimetype": "text/x-python",
   "name": "python",
   "nbconvert_exporter": "python",
   "pygments_lexer": "ipython3",
   "version": "3.7.3"
  }
 },
 "nbformat": 4,
 "nbformat_minor": 2
}
